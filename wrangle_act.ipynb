{
 "cells": [
  {
   "cell_type": "code",
   "execution_count": 219,
   "metadata": {},
   "outputs": [],
   "source": [
    "import pandas as pd\n",
    "import numpy as np\n",
    "import requests\n",
    "import os\n",
    "import tweepy\n",
    "import json\n",
    "import seaborn as sns\n",
    "import matplotlib.pyplot as plt\n",
    "%matplotlib inline"
   ]
  },
  {
   "cell_type": "markdown",
   "metadata": {},
   "source": [
    "# Gathering\n",
    "\n",
    "Sources:\n",
    "\n",
    "* CSV\n",
    "* programmatic download from website (by requests library)\n",
    "* Twitter API's JSON data (by tweepy library)"
   ]
  },
  {
   "cell_type": "code",
   "execution_count": 417,
   "metadata": {},
   "outputs": [
    {
     "name": "stdout",
     "output_type": "stream",
     "text": [
      "<class 'pandas.core.frame.DataFrame'>\n",
      "RangeIndex: 2356 entries, 0 to 2355\n",
      "Data columns (total 17 columns):\n",
      " #   Column                      Non-Null Count  Dtype  \n",
      "---  ------                      --------------  -----  \n",
      " 0   tweet_id                    2356 non-null   int64  \n",
      " 1   in_reply_to_status_id       78 non-null     float64\n",
      " 2   in_reply_to_user_id         78 non-null     float64\n",
      " 3   timestamp                   2356 non-null   object \n",
      " 4   source                      2356 non-null   object \n",
      " 5   text                        2356 non-null   object \n",
      " 6   retweeted_status_id         181 non-null    float64\n",
      " 7   retweeted_status_user_id    181 non-null    float64\n",
      " 8   retweeted_status_timestamp  181 non-null    object \n",
      " 9   expanded_urls               2297 non-null   object \n",
      " 10  rating_numerator            2356 non-null   int64  \n",
      " 11  rating_denominator          2356 non-null   int64  \n",
      " 12  name                        2356 non-null   object \n",
      " 13  doggo                       2356 non-null   object \n",
      " 14  floofer                     2356 non-null   object \n",
      " 15  pupper                      2356 non-null   object \n",
      " 16  puppo                       2356 non-null   object \n",
      "dtypes: float64(4), int64(3), object(10)\n",
      "memory usage: 313.0+ KB\n"
     ]
    }
   ],
   "source": [
    "archive_df = pd.read_csv('twitter-archive-enhanced.csv')\n",
    "# archive_df.sample(3)\n",
    "archive_df.info()"
   ]
  },
  {
   "cell_type": "code",
   "execution_count": 418,
   "metadata": {},
   "outputs": [
    {
     "name": "stdout",
     "output_type": "stream",
     "text": [
      "<class 'pandas.core.frame.DataFrame'>\n",
      "RangeIndex: 2075 entries, 0 to 2074\n",
      "Data columns (total 12 columns):\n",
      " #   Column    Non-Null Count  Dtype  \n",
      "---  ------    --------------  -----  \n",
      " 0   tweet_id  2075 non-null   int64  \n",
      " 1   jpg_url   2075 non-null   object \n",
      " 2   img_num   2075 non-null   int64  \n",
      " 3   p1        2075 non-null   object \n",
      " 4   p1_conf   2075 non-null   float64\n",
      " 5   p1_dog    2075 non-null   bool   \n",
      " 6   p2        2075 non-null   object \n",
      " 7   p2_conf   2075 non-null   float64\n",
      " 8   p2_dog    2075 non-null   bool   \n",
      " 9   p3        2075 non-null   object \n",
      " 10  p3_conf   2075 non-null   float64\n",
      " 11  p3_dog    2075 non-null   bool   \n",
      "dtypes: bool(3), float64(3), int64(2), object(4)\n",
      "memory usage: 152.1+ KB\n"
     ]
    }
   ],
   "source": [
    "url = 'https://d17h27t6h515a5.cloudfront.net/topher/2017/August/599fd2ad_image-predictions/image-predictions.tsv'\n",
    "response = requests.get(url)\n",
    "\n",
    "folder = 'image-predictions'\n",
    "if not os.path.exists(folder):\n",
    "    os.makedirs(folder)\n",
    "    \n",
    "file_name = url.split('/')[-1]\n",
    "file_full_path = os.path.join(folder, file_name)\n",
    "\n",
    "with open(file_full_path, mode='wb') as file:\n",
    "    file.write(response.content)\n",
    "    \n",
    "img_predictions_df = pd.read_csv(file_full_path, sep='\\t')\n",
    "# img_predictions_df.sample(3)\n",
    "img_predictions_df.info()"
   ]
  },
  {
   "cell_type": "markdown",
   "metadata": {},
   "source": [
    "##### Sensitive data : hide your keys before sharing notebook with others."
   ]
  },
  {
   "cell_type": "code",
   "execution_count": 4,
   "metadata": {},
   "outputs": [],
   "source": [
    "key = \"D0cfoN3lSbarsaAxvEXCUbZc9\"\n",
    "# key = \"*************************\"\n",
    "\n",
    "key_secret = \"rNpQCzw3yMGlFbbniR2k1yFIxtAfoeVDUFVjWxbBK64WUmSTdO\"\n",
    "# key_secret = \"**********************\"\n",
    "\n",
    "token = \"3372549790-dpzzgYi2mwLId4TzOVc0RjK4Z7kk7mK0EA4SRgg\"\n",
    "# token = \"***********************\"\n",
    "\n",
    "token_secret = \"v5fIYYvsfUMnrr2xPL7HFHOLnLJ5uWhWpRY2yYrIxZ6Cr\"\n",
    "# token_secret = \"***************************\"\n",
    "\n",
    "\n",
    "auth = tweepy.OAuthHandler(key, key_secret)\n",
    "auth.set_access_token(token, token_secret)\n",
    "\n",
    "api = tweepy.API(auth)"
   ]
  },
  {
   "cell_type": "code",
   "execution_count": 6,
   "metadata": {},
   "outputs": [],
   "source": [
    "############################### Test ##########################\n",
    "# try:\n",
    "#     api.verify_credentials()\n",
    "#     print(\"Authentication OK\")\n",
    "# except:\n",
    "#     print(\"Error during authentication\")\n",
    "\n",
    "\n",
    "# exp_tweet = api.get_status(archive_df.tweet_id[1000], tweet_mode='extended')\n",
    "# content = exp_tweet._json\n",
    "# print(content)\n",
    "###############################################################\n",
    "\n",
    "tweet_ids = list(archive_df.tweet_id)\n",
    "\n",
    "if not os.path.isfile('tweet_json.txt'):\n",
    "    with open('tweet_json.txt', 'w') as file:\n",
    "        tweet_data = {}    \n",
    "        for tweet in tweet_ids:\n",
    "            try:\n",
    "                tweet_status = api.get_status(tweet, wait_on_rate_limit=True, wait_on_rate_limit_notify=True)\n",
    "                tweet_data[str(tweet)] = tweet_status._json\n",
    "        #             print(tweet_data[str(tweet)], '\\n')\n",
    "            except:\n",
    "                print(\"Error for tweet_id: {}\".format(tweet))\n",
    "        json.dump(tweet_data, file)"
   ]
  },
  {
   "cell_type": "code",
   "execution_count": 419,
   "metadata": {},
   "outputs": [
    {
     "name": "stdout",
     "output_type": "stream",
     "text": [
      "<class 'pandas.core.frame.DataFrame'>\n",
      "RangeIndex: 2330 entries, 0 to 2329\n",
      "Data columns (total 3 columns):\n",
      " #   Column     Non-Null Count  Dtype \n",
      "---  ------     --------------  ----- \n",
      " 0   tweet_id   2330 non-null   object\n",
      " 1   retweets   2330 non-null   int64 \n",
      " 2   favorites  2330 non-null   int64 \n",
      "dtypes: int64(2), object(1)\n",
      "memory usage: 54.7+ KB\n"
     ]
    }
   ],
   "source": [
    "# check for file's size\n",
    "# print(os.path.getsize('tweet_json.txt'))\n",
    "with open('tweet_json.txt') as file:   \n",
    "    data = json.load(file)\n",
    "    \n",
    "df_list = []\n",
    "\n",
    "for tweet_id in data.keys():\n",
    "    retweets = data[tweet_id]['retweet_count']\n",
    "    favorites = data[tweet_id]['favorite_count']\n",
    "    df_list.append({'tweet_id': tweet_id,\n",
    "                        'retweets': retweets,\n",
    "                        'favorites': favorites})\n",
    "    \n",
    "tweets_df = pd.DataFrame(df_list, columns = ['tweet_id', 'retweets', 'favorites'])\n",
    "# tweets_df.sample(5)\n",
    "tweets_df.info()"
   ]
  },
  {
   "cell_type": "code",
   "execution_count": 8,
   "metadata": {},
   "outputs": [
    {
     "name": "stdout",
     "output_type": "stream",
     "text": [
      "<class 'pandas.core.frame.DataFrame'>\n",
      "RangeIndex: 2356 entries, 0 to 2355\n",
      "Data columns (total 17 columns):\n",
      " #   Column                      Non-Null Count  Dtype  \n",
      "---  ------                      --------------  -----  \n",
      " 0   tweet_id                    2356 non-null   int64  \n",
      " 1   in_reply_to_status_id       78 non-null     float64\n",
      " 2   in_reply_to_user_id         78 non-null     float64\n",
      " 3   timestamp                   2356 non-null   object \n",
      " 4   source                      2356 non-null   object \n",
      " 5   text                        2356 non-null   object \n",
      " 6   retweeted_status_id         181 non-null    float64\n",
      " 7   retweeted_status_user_id    181 non-null    float64\n",
      " 8   retweeted_status_timestamp  181 non-null    object \n",
      " 9   expanded_urls               2297 non-null   object \n",
      " 10  rating_numerator            2356 non-null   int64  \n",
      " 11  rating_denominator          2356 non-null   int64  \n",
      " 12  name                        2356 non-null   object \n",
      " 13  doggo                       2356 non-null   object \n",
      " 14  floofer                     2356 non-null   object \n",
      " 15  pupper                      2356 non-null   object \n",
      " 16  puppo                       2356 non-null   object \n",
      "dtypes: float64(4), int64(3), object(10)\n",
      "memory usage: 313.0+ KB\n"
     ]
    }
   ],
   "source": [
    "archive_df.info()\n",
    "# archive_df['name'].sample(5)"
   ]
  },
  {
   "cell_type": "code",
   "execution_count": 9,
   "metadata": {},
   "outputs": [
    {
     "name": "stdout",
     "output_type": "stream",
     "text": [
      "<class 'pandas.core.frame.DataFrame'>\n",
      "RangeIndex: 2075 entries, 0 to 2074\n",
      "Data columns (total 12 columns):\n",
      " #   Column    Non-Null Count  Dtype  \n",
      "---  ------    --------------  -----  \n",
      " 0   tweet_id  2075 non-null   int64  \n",
      " 1   jpg_url   2075 non-null   object \n",
      " 2   img_num   2075 non-null   int64  \n",
      " 3   p1        2075 non-null   object \n",
      " 4   p1_conf   2075 non-null   float64\n",
      " 5   p1_dog    2075 non-null   bool   \n",
      " 6   p2        2075 non-null   object \n",
      " 7   p2_conf   2075 non-null   float64\n",
      " 8   p2_dog    2075 non-null   bool   \n",
      " 9   p3        2075 non-null   object \n",
      " 10  p3_conf   2075 non-null   float64\n",
      " 11  p3_dog    2075 non-null   bool   \n",
      "dtypes: bool(3), float64(3), int64(2), object(4)\n",
      "memory usage: 152.1+ KB\n"
     ]
    },
    {
     "data": {
      "text/html": [
       "<div>\n",
       "<style scoped>\n",
       "    .dataframe tbody tr th:only-of-type {\n",
       "        vertical-align: middle;\n",
       "    }\n",
       "\n",
       "    .dataframe tbody tr th {\n",
       "        vertical-align: top;\n",
       "    }\n",
       "\n",
       "    .dataframe thead th {\n",
       "        text-align: right;\n",
       "    }\n",
       "</style>\n",
       "<table border=\"1\" class=\"dataframe\">\n",
       "  <thead>\n",
       "    <tr style=\"text-align: right;\">\n",
       "      <th></th>\n",
       "      <th>tweet_id</th>\n",
       "      <th>jpg_url</th>\n",
       "      <th>img_num</th>\n",
       "      <th>p1</th>\n",
       "      <th>p1_conf</th>\n",
       "      <th>p1_dog</th>\n",
       "      <th>p2</th>\n",
       "      <th>p2_conf</th>\n",
       "      <th>p2_dog</th>\n",
       "      <th>p3</th>\n",
       "      <th>p3_conf</th>\n",
       "      <th>p3_dog</th>\n",
       "    </tr>\n",
       "  </thead>\n",
       "  <tbody>\n",
       "    <tr>\n",
       "      <th>278</th>\n",
       "      <td>670995969505435648</td>\n",
       "      <td>https://pbs.twimg.com/media/CU_bRIEWcAAUVC7.jpg</td>\n",
       "      <td>1</td>\n",
       "      <td>redbone</td>\n",
       "      <td>0.866221</td>\n",
       "      <td>True</td>\n",
       "      <td>beagle</td>\n",
       "      <td>0.061194</td>\n",
       "      <td>True</td>\n",
       "      <td>Rhodesian_ridgeback</td>\n",
       "      <td>0.024285</td>\n",
       "      <td>True</td>\n",
       "    </tr>\n",
       "    <tr>\n",
       "      <th>1803</th>\n",
       "      <td>832040443403784192</td>\n",
       "      <td>https://pbs.twimg.com/media/Cq9guJ5WgAADfpF.jpg</td>\n",
       "      <td>1</td>\n",
       "      <td>miniature_pinscher</td>\n",
       "      <td>0.796313</td>\n",
       "      <td>True</td>\n",
       "      <td>Chihuahua</td>\n",
       "      <td>0.155413</td>\n",
       "      <td>True</td>\n",
       "      <td>Staffordshire_bullterrier</td>\n",
       "      <td>0.030943</td>\n",
       "      <td>True</td>\n",
       "    </tr>\n",
       "    <tr>\n",
       "      <th>1962</th>\n",
       "      <td>866686824827068416</td>\n",
       "      <td>https://pbs.twimg.com/media/DAcXEWuXkAIBDGJ.jpg</td>\n",
       "      <td>1</td>\n",
       "      <td>flat-coated_retriever</td>\n",
       "      <td>0.514730</td>\n",
       "      <td>True</td>\n",
       "      <td>groenendael</td>\n",
       "      <td>0.306407</td>\n",
       "      <td>True</td>\n",
       "      <td>curly-coated_retriever</td>\n",
       "      <td>0.061314</td>\n",
       "      <td>True</td>\n",
       "    </tr>\n",
       "  </tbody>\n",
       "</table>\n",
       "</div>"
      ],
      "text/plain": [
       "                tweet_id                                          jpg_url  \\\n",
       "278   670995969505435648  https://pbs.twimg.com/media/CU_bRIEWcAAUVC7.jpg   \n",
       "1803  832040443403784192  https://pbs.twimg.com/media/Cq9guJ5WgAADfpF.jpg   \n",
       "1962  866686824827068416  https://pbs.twimg.com/media/DAcXEWuXkAIBDGJ.jpg   \n",
       "\n",
       "      img_num                     p1   p1_conf  p1_dog           p2   p2_conf  \\\n",
       "278         1                redbone  0.866221    True       beagle  0.061194   \n",
       "1803        1     miniature_pinscher  0.796313    True    Chihuahua  0.155413   \n",
       "1962        1  flat-coated_retriever  0.514730    True  groenendael  0.306407   \n",
       "\n",
       "      p2_dog                         p3   p3_conf  p3_dog  \n",
       "278     True        Rhodesian_ridgeback  0.024285    True  \n",
       "1803    True  Staffordshire_bullterrier  0.030943    True  \n",
       "1962    True     curly-coated_retriever  0.061314    True  "
      ]
     },
     "execution_count": 9,
     "metadata": {},
     "output_type": "execute_result"
    }
   ],
   "source": [
    "img_predictions_df.info()\n",
    "img_predictions_df.sample(3)"
   ]
  },
  {
   "cell_type": "code",
   "execution_count": 10,
   "metadata": {},
   "outputs": [
    {
     "name": "stdout",
     "output_type": "stream",
     "text": [
      "<class 'pandas.core.frame.DataFrame'>\n",
      "RangeIndex: 2330 entries, 0 to 2329\n",
      "Data columns (total 3 columns):\n",
      " #   Column     Non-Null Count  Dtype \n",
      "---  ------     --------------  ----- \n",
      " 0   tweet_id   2330 non-null   object\n",
      " 1   retweets   2330 non-null   int64 \n",
      " 2   favorites  2330 non-null   int64 \n",
      "dtypes: int64(2), object(1)\n",
      "memory usage: 54.7+ KB\n"
     ]
    }
   ],
   "source": [
    "tweets_df.info()\n",
    "# tweets_df.sample(3)"
   ]
  },
  {
   "cell_type": "markdown",
   "metadata": {},
   "source": [
    "# Assessment data:\n",
    "### Dirty data :-\n",
    "#### Validity:\n",
    "- @archive_df timestamp column needs to convert its dtype from string to datetime\n",
    "- @archive_df name column needs to convert its missing values from None to NaN\n",
    "- @archive_df doggo column needs to convert its missing values from None to NaN\n",
    "- @archive_df floofer column needs to convert its missing values from None to NaN\n",
    "- @archive_df pupper column needs to convert its missing values from None to NaN\n",
    "- @archive_df puppo column needs to convert its missing values from None to NaN\n",
    "- @archive_df text column is cuted off with ellipses\n",
    "\n",
    "\n",
    "- @tweets_df tweet_id column needs to convert its dtype from string to int\n",
    "\t\n",
    "    \n",
    "    \n",
    "#### Accuracy:\n",
    "None\n",
    "\t\n",
    "#### Consistency: \n",
    "None\n",
    "\n",
    "### Untidy data :-\n",
    "- retweets and favorites in their own table (tweets_df)\n",
    "- dog stages in multiple columns (archive_df)\n",
    "- three separate tables"
   ]
  },
  {
   "cell_type": "markdown",
   "metadata": {},
   "source": [
    "# Cleaning data\n",
    "#### Define: \n",
    "fix assessments issues above in archive_df and tweets_df datasets first."
   ]
  },
  {
   "cell_type": "code",
   "execution_count": 11,
   "metadata": {},
   "outputs": [],
   "source": [
    "archive_df['timestamp'] = pd.to_datetime(archive_df['timestamp'])\n",
    "\n",
    "archive_df['name'].replace('None', np.nan, inplace=True)\n",
    "\n",
    "archive_df['doggo'].replace('None', np.nan, inplace=True)\n",
    "\n",
    "archive_df['floofer'].replace('None', np.nan, inplace=True)\n",
    "\n",
    "archive_df['pupper'].replace('None', np.nan, inplace=True)\n",
    "\n",
    "archive_df['puppo'].replace('None', np.nan, inplace=True)"
   ]
  },
  {
   "cell_type": "markdown",
   "metadata": {},
   "source": [
    "#### Define: \n",
    "fix assessments issues above in tweets_df and tweets_df datasets first."
   ]
  },
  {
   "cell_type": "code",
   "execution_count": 12,
   "metadata": {},
   "outputs": [],
   "source": [
    "tweets_df['tweet_id'] = tweets_df['tweet_id'].astype('int')"
   ]
  },
  {
   "cell_type": "code",
   "execution_count": 13,
   "metadata": {},
   "outputs": [],
   "source": [
    "archive_clean = archive_df.copy()\n",
    "tweets_clean = tweets_df.copy()\n",
    "img_pred_clean = img_predictions_df.copy()"
   ]
  },
  {
   "cell_type": "code",
   "execution_count": 14,
   "metadata": {},
   "outputs": [
    {
     "name": "stdout",
     "output_type": "stream",
     "text": [
      "<class 'pandas.core.frame.DataFrame'>\n",
      "RangeIndex: 2356 entries, 0 to 2355\n",
      "Data columns (total 17 columns):\n",
      " #   Column                      Non-Null Count  Dtype              \n",
      "---  ------                      --------------  -----              \n",
      " 0   tweet_id                    2356 non-null   int64              \n",
      " 1   in_reply_to_status_id       78 non-null     float64            \n",
      " 2   in_reply_to_user_id         78 non-null     float64            \n",
      " 3   timestamp                   2356 non-null   datetime64[ns, UTC]\n",
      " 4   source                      2356 non-null   object             \n",
      " 5   text                        2356 non-null   object             \n",
      " 6   retweeted_status_id         181 non-null    float64            \n",
      " 7   retweeted_status_user_id    181 non-null    float64            \n",
      " 8   retweeted_status_timestamp  181 non-null    object             \n",
      " 9   expanded_urls               2297 non-null   object             \n",
      " 10  rating_numerator            2356 non-null   int64              \n",
      " 11  rating_denominator          2356 non-null   int64              \n",
      " 12  name                        1611 non-null   object             \n",
      " 13  doggo                       97 non-null     object             \n",
      " 14  floofer                     10 non-null     object             \n",
      " 15  pupper                      257 non-null    object             \n",
      " 16  puppo                       30 non-null     object             \n",
      "dtypes: datetime64[ns, UTC](1), float64(4), int64(3), object(9)\n",
      "memory usage: 313.0+ KB\n"
     ]
    }
   ],
   "source": [
    "archive_clean.info()"
   ]
  },
  {
   "cell_type": "code",
   "execution_count": 15,
   "metadata": {},
   "outputs": [
    {
     "name": "stdout",
     "output_type": "stream",
     "text": [
      "<class 'pandas.core.frame.DataFrame'>\n",
      "RangeIndex: 2330 entries, 0 to 2329\n",
      "Data columns (total 3 columns):\n",
      " #   Column     Non-Null Count  Dtype\n",
      "---  ------     --------------  -----\n",
      " 0   tweet_id   2330 non-null   int64\n",
      " 1   retweets   2330 non-null   int64\n",
      " 2   favorites  2330 non-null   int64\n",
      "dtypes: int64(3)\n",
      "memory usage: 54.7 KB\n"
     ]
    }
   ],
   "source": [
    "tweets_clean.info()"
   ]
  },
  {
   "cell_type": "code",
   "execution_count": 16,
   "metadata": {},
   "outputs": [
    {
     "name": "stdout",
     "output_type": "stream",
     "text": [
      "<class 'pandas.core.frame.DataFrame'>\n",
      "RangeIndex: 2075 entries, 0 to 2074\n",
      "Data columns (total 12 columns):\n",
      " #   Column    Non-Null Count  Dtype  \n",
      "---  ------    --------------  -----  \n",
      " 0   tweet_id  2075 non-null   int64  \n",
      " 1   jpg_url   2075 non-null   object \n",
      " 2   img_num   2075 non-null   int64  \n",
      " 3   p1        2075 non-null   object \n",
      " 4   p1_conf   2075 non-null   float64\n",
      " 5   p1_dog    2075 non-null   bool   \n",
      " 6   p2        2075 non-null   object \n",
      " 7   p2_conf   2075 non-null   float64\n",
      " 8   p2_dog    2075 non-null   bool   \n",
      " 9   p3        2075 non-null   object \n",
      " 10  p3_conf   2075 non-null   float64\n",
      " 11  p3_dog    2075 non-null   bool   \n",
      "dtypes: bool(3), float64(3), int64(2), object(4)\n",
      "memory usage: 152.1+ KB\n"
     ]
    }
   ],
   "source": [
    "img_pred_clean.info()"
   ]
  },
  {
   "cell_type": "markdown",
   "metadata": {},
   "source": [
    "### Merging datasets:-"
   ]
  },
  {
   "cell_type": "code",
   "execution_count": 17,
   "metadata": {},
   "outputs": [],
   "source": [
    "archive_clean = pd.merge(archive_clean, tweets_clean,\n",
    "                        how = 'inner', on = 'tweet_id')\n",
    "archive_clean = pd.merge(archive_clean, img_pred_clean,\n",
    "                        how = 'inner', on = 'tweet_id')"
   ]
  },
  {
   "cell_type": "markdown",
   "metadata": {},
   "source": [
    "### Test"
   ]
  },
  {
   "cell_type": "code",
   "execution_count": 18,
   "metadata": {},
   "outputs": [
    {
     "name": "stdout",
     "output_type": "stream",
     "text": [
      "<class 'pandas.core.frame.DataFrame'>\n",
      "Int64Index: 2058 entries, 0 to 2057\n",
      "Data columns (total 30 columns):\n",
      " #   Column                      Non-Null Count  Dtype              \n",
      "---  ------                      --------------  -----              \n",
      " 0   tweet_id                    2058 non-null   int64              \n",
      " 1   in_reply_to_status_id       23 non-null     float64            \n",
      " 2   in_reply_to_user_id         23 non-null     float64            \n",
      " 3   timestamp                   2058 non-null   datetime64[ns, UTC]\n",
      " 4   source                      2058 non-null   object             \n",
      " 5   text                        2058 non-null   object             \n",
      " 6   retweeted_status_id         72 non-null     float64            \n",
      " 7   retweeted_status_user_id    72 non-null     float64            \n",
      " 8   retweeted_status_timestamp  72 non-null     object             \n",
      " 9   expanded_urls               2058 non-null   object             \n",
      " 10  rating_numerator            2058 non-null   int64              \n",
      " 11  rating_denominator          2058 non-null   int64              \n",
      " 12  name                        1485 non-null   object             \n",
      " 13  doggo                       77 non-null     object             \n",
      " 14  floofer                     8 non-null      object             \n",
      " 15  pupper                      221 non-null    object             \n",
      " 16  puppo                       24 non-null     object             \n",
      " 17  retweets                    2058 non-null   int64              \n",
      " 18  favorites                   2058 non-null   int64              \n",
      " 19  jpg_url                     2058 non-null   object             \n",
      " 20  img_num                     2058 non-null   int64              \n",
      " 21  p1                          2058 non-null   object             \n",
      " 22  p1_conf                     2058 non-null   float64            \n",
      " 23  p1_dog                      2058 non-null   bool               \n",
      " 24  p2                          2058 non-null   object             \n",
      " 25  p2_conf                     2058 non-null   float64            \n",
      " 26  p2_dog                      2058 non-null   bool               \n",
      " 27  p3                          2058 non-null   object             \n",
      " 28  p3_conf                     2058 non-null   float64            \n",
      " 29  p3_dog                      2058 non-null   bool               \n",
      "dtypes: bool(3), datetime64[ns, UTC](1), float64(7), int64(6), object(13)\n",
      "memory usage: 456.2+ KB\n"
     ]
    }
   ],
   "source": [
    "archive_clean.info()"
   ]
  },
  {
   "cell_type": "markdown",
   "metadata": {},
   "source": [
    "# Assessment data:\n",
    "### Dirty data :-\n",
    "#### Consistency:\n",
    "- @archive_clean retweeted_status_id & retweeted_status_user_id &                            retweeted_status_timestamp & in_reply_to_status_id & in_reply_to_user_id columns are    not consistent with our interest, so we should remove them out\n",
    "\n",
    "# Clean\n",
    "### Define: \n",
    "- as mentioned above.\n"
   ]
  },
  {
   "cell_type": "code",
   "execution_count": 337,
   "metadata": {},
   "outputs": [],
   "source": [
    "archive_clean_2 = archive_clean[(archive_clean['retweeted_status_id'].isnull())&(archive_clean['in_reply_to_status_id'].isnull())]\n",
    "column_names = ['in_reply_to_status_id', 'in_reply_to_user_id', 'retweeted_status_id', 'retweeted_status_user_id', 'retweeted_status_timestamp']\n",
    "if set(column_names).issubset(archive_clean_2.columns):\n",
    "    archive_clean_2 = archive_clean_2.drop(column_names, axis=1)\n",
    "    archive_clean_2.reset_index(drop=True, inplace=True)"
   ]
  },
  {
   "cell_type": "markdown",
   "metadata": {},
   "source": [
    "### Test"
   ]
  },
  {
   "cell_type": "code",
   "execution_count": 338,
   "metadata": {},
   "outputs": [
    {
     "name": "stdout",
     "output_type": "stream",
     "text": [
      "<class 'pandas.core.frame.DataFrame'>\n",
      "RangeIndex: 1963 entries, 0 to 1962\n",
      "Data columns (total 25 columns):\n",
      " #   Column              Non-Null Count  Dtype              \n",
      "---  ------              --------------  -----              \n",
      " 0   tweet_id            1963 non-null   int64              \n",
      " 1   timestamp           1963 non-null   datetime64[ns, UTC]\n",
      " 2   source              1963 non-null   object             \n",
      " 3   text                1963 non-null   object             \n",
      " 4   expanded_urls       1963 non-null   object             \n",
      " 5   rating_numerator    1963 non-null   int64              \n",
      " 6   rating_denominator  1963 non-null   int64              \n",
      " 7   name                1439 non-null   object             \n",
      " 8   doggo               71 non-null     object             \n",
      " 9   floofer             8 non-null      object             \n",
      " 10  pupper              209 non-null    object             \n",
      " 11  puppo               23 non-null     object             \n",
      " 12  retweets            1963 non-null   int64              \n",
      " 13  favorites           1963 non-null   int64              \n",
      " 14  jpg_url             1963 non-null   object             \n",
      " 15  img_num             1963 non-null   int64              \n",
      " 16  p1                  1963 non-null   object             \n",
      " 17  p1_conf             1963 non-null   float64            \n",
      " 18  p1_dog              1963 non-null   bool               \n",
      " 19  p2                  1963 non-null   object             \n",
      " 20  p2_conf             1963 non-null   float64            \n",
      " 21  p2_dog              1963 non-null   bool               \n",
      " 22  p3                  1963 non-null   object             \n",
      " 23  p3_conf             1963 non-null   float64            \n",
      " 24  p3_dog              1963 non-null   bool               \n",
      "dtypes: bool(3), datetime64[ns, UTC](1), float64(3), int64(6), object(12)\n",
      "memory usage: 343.3+ KB\n"
     ]
    }
   ],
   "source": [
    "archive_clean_2.info()"
   ]
  },
  {
   "cell_type": "code",
   "execution_count": 339,
   "metadata": {},
   "outputs": [],
   "source": [
    "archive_clean_2 = pd.melt(archive_clean_2,\n",
    "                        id_vars=['tweet_id','timestamp','source','text',\n",
    "                                 'expanded_urls', 'rating_numerator', 'rating_denominator',\n",
    "                                 'name', 'retweets', 'favorites', 'jpg_url', 'img_num', 'p1',\n",
    "                                 'p1_conf', 'p1_dog', 'p2', 'p2_conf', 'p2_dog', 'p3', 'p3_conf',\n",
    "                                 'p3_dog'],\n",
    "                        value_name='dog_stage')\n",
    "archive_clean_2 = archive_clean_2.drop('variable', axis=1)"
   ]
  },
  {
   "cell_type": "code",
   "execution_count": 340,
   "metadata": {},
   "outputs": [
    {
     "data": {
      "text/html": [
       "<div>\n",
       "<style scoped>\n",
       "    .dataframe tbody tr th:only-of-type {\n",
       "        vertical-align: middle;\n",
       "    }\n",
       "\n",
       "    .dataframe tbody tr th {\n",
       "        vertical-align: top;\n",
       "    }\n",
       "\n",
       "    .dataframe thead th {\n",
       "        text-align: right;\n",
       "    }\n",
       "</style>\n",
       "<table border=\"1\" class=\"dataframe\">\n",
       "  <thead>\n",
       "    <tr style=\"text-align: right;\">\n",
       "      <th></th>\n",
       "      <th>tweet_id</th>\n",
       "      <th>timestamp</th>\n",
       "      <th>source</th>\n",
       "      <th>text</th>\n",
       "      <th>expanded_urls</th>\n",
       "      <th>rating_numerator</th>\n",
       "      <th>rating_denominator</th>\n",
       "      <th>name</th>\n",
       "      <th>retweets</th>\n",
       "      <th>favorites</th>\n",
       "      <th>...</th>\n",
       "      <th>p1</th>\n",
       "      <th>p1_conf</th>\n",
       "      <th>p1_dog</th>\n",
       "      <th>p2</th>\n",
       "      <th>p2_conf</th>\n",
       "      <th>p2_dog</th>\n",
       "      <th>p3</th>\n",
       "      <th>p3_conf</th>\n",
       "      <th>p3_dog</th>\n",
       "      <th>dog_stage</th>\n",
       "    </tr>\n",
       "  </thead>\n",
       "  <tbody>\n",
       "    <tr>\n",
       "      <th>4359</th>\n",
       "      <td>796865951799083009</td>\n",
       "      <td>2016-11-11 00:03:42+00:00</td>\n",
       "      <td>&lt;a href=\"http://twitter.com/download/iphone\" r...</td>\n",
       "      <td>This is Tyr. He's just checking on you. Nifty ...</td>\n",
       "      <td>https://twitter.com/dog_rates/status/796865951...</td>\n",
       "      <td>12</td>\n",
       "      <td>10</td>\n",
       "      <td>Tyr</td>\n",
       "      <td>1934</td>\n",
       "      <td>7741</td>\n",
       "      <td>...</td>\n",
       "      <td>Cardigan</td>\n",
       "      <td>0.839129</td>\n",
       "      <td>True</td>\n",
       "      <td>Boston_bull</td>\n",
       "      <td>0.080699</td>\n",
       "      <td>True</td>\n",
       "      <td>Pembroke</td>\n",
       "      <td>0.034505</td>\n",
       "      <td>True</td>\n",
       "      <td>NaN</td>\n",
       "    </tr>\n",
       "    <tr>\n",
       "      <th>2010</th>\n",
       "      <td>881906580714921986</td>\n",
       "      <td>2017-07-03 16:04:48+00:00</td>\n",
       "      <td>&lt;a href=\"http://twitter.com/download/iphone\" r...</td>\n",
       "      <td>This is Rey. He's a Benebop Cumberfloof. 12/10...</td>\n",
       "      <td>https://twitter.com/dog_rates/status/881906580...</td>\n",
       "      <td>12</td>\n",
       "      <td>10</td>\n",
       "      <td>Rey</td>\n",
       "      <td>3050</td>\n",
       "      <td>22558</td>\n",
       "      <td>...</td>\n",
       "      <td>Weimaraner</td>\n",
       "      <td>0.291539</td>\n",
       "      <td>True</td>\n",
       "      <td>Chesapeake_Bay_retriever</td>\n",
       "      <td>0.278966</td>\n",
       "      <td>True</td>\n",
       "      <td>koala</td>\n",
       "      <td>0.127017</td>\n",
       "      <td>False</td>\n",
       "      <td>NaN</td>\n",
       "    </tr>\n",
       "    <tr>\n",
       "      <th>5757</th>\n",
       "      <td>668480044826800133</td>\n",
       "      <td>2015-11-22 17:23:57+00:00</td>\n",
       "      <td>&lt;a href=\"http://twitter.com/download/iphone\" r...</td>\n",
       "      <td>Say hello to DayZ. She is definitely stuck on ...</td>\n",
       "      <td>https://twitter.com/dog_rates/status/668480044...</td>\n",
       "      <td>11</td>\n",
       "      <td>10</td>\n",
       "      <td>DayZ</td>\n",
       "      <td>135</td>\n",
       "      <td>431</td>\n",
       "      <td>...</td>\n",
       "      <td>Arctic_fox</td>\n",
       "      <td>0.119243</td>\n",
       "      <td>False</td>\n",
       "      <td>Labrador_retriever</td>\n",
       "      <td>0.099965</td>\n",
       "      <td>True</td>\n",
       "      <td>pug</td>\n",
       "      <td>0.086717</td>\n",
       "      <td>True</td>\n",
       "      <td>NaN</td>\n",
       "    </tr>\n",
       "  </tbody>\n",
       "</table>\n",
       "<p>3 rows × 22 columns</p>\n",
       "</div>"
      ],
      "text/plain": [
       "                tweet_id                 timestamp  \\\n",
       "4359  796865951799083009 2016-11-11 00:03:42+00:00   \n",
       "2010  881906580714921986 2017-07-03 16:04:48+00:00   \n",
       "5757  668480044826800133 2015-11-22 17:23:57+00:00   \n",
       "\n",
       "                                                 source  \\\n",
       "4359  <a href=\"http://twitter.com/download/iphone\" r...   \n",
       "2010  <a href=\"http://twitter.com/download/iphone\" r...   \n",
       "5757  <a href=\"http://twitter.com/download/iphone\" r...   \n",
       "\n",
       "                                                   text  \\\n",
       "4359  This is Tyr. He's just checking on you. Nifty ...   \n",
       "2010  This is Rey. He's a Benebop Cumberfloof. 12/10...   \n",
       "5757  Say hello to DayZ. She is definitely stuck on ...   \n",
       "\n",
       "                                          expanded_urls  rating_numerator  \\\n",
       "4359  https://twitter.com/dog_rates/status/796865951...                12   \n",
       "2010  https://twitter.com/dog_rates/status/881906580...                12   \n",
       "5757  https://twitter.com/dog_rates/status/668480044...                11   \n",
       "\n",
       "      rating_denominator  name  retweets  favorites  ...          p1  \\\n",
       "4359                  10   Tyr      1934       7741  ...    Cardigan   \n",
       "2010                  10   Rey      3050      22558  ...  Weimaraner   \n",
       "5757                  10  DayZ       135        431  ...  Arctic_fox   \n",
       "\n",
       "       p1_conf p1_dog                        p2   p2_conf p2_dog        p3  \\\n",
       "4359  0.839129   True               Boston_bull  0.080699   True  Pembroke   \n",
       "2010  0.291539   True  Chesapeake_Bay_retriever  0.278966   True     koala   \n",
       "5757  0.119243  False        Labrador_retriever  0.099965   True       pug   \n",
       "\n",
       "       p3_conf p3_dog  dog_stage  \n",
       "4359  0.034505   True        NaN  \n",
       "2010  0.127017  False        NaN  \n",
       "5757  0.086717   True        NaN  \n",
       "\n",
       "[3 rows x 22 columns]"
      ]
     },
     "execution_count": 340,
     "metadata": {},
     "output_type": "execute_result"
    }
   ],
   "source": [
    "archive_clean_2.sample(3)"
   ]
  },
  {
   "cell_type": "code",
   "execution_count": 341,
   "metadata": {},
   "outputs": [
    {
     "data": {
      "text/html": [
       "<div>\n",
       "<style scoped>\n",
       "    .dataframe tbody tr th:only-of-type {\n",
       "        vertical-align: middle;\n",
       "    }\n",
       "\n",
       "    .dataframe tbody tr th {\n",
       "        vertical-align: top;\n",
       "    }\n",
       "\n",
       "    .dataframe thead th {\n",
       "        text-align: right;\n",
       "    }\n",
       "</style>\n",
       "<table border=\"1\" class=\"dataframe\">\n",
       "  <thead>\n",
       "    <tr style=\"text-align: right;\">\n",
       "      <th></th>\n",
       "      <th>tweet_id</th>\n",
       "      <th>timestamp</th>\n",
       "      <th>source</th>\n",
       "      <th>text</th>\n",
       "      <th>expanded_urls</th>\n",
       "      <th>rating_numerator</th>\n",
       "      <th>rating_denominator</th>\n",
       "      <th>name</th>\n",
       "      <th>retweets</th>\n",
       "      <th>favorites</th>\n",
       "      <th>...</th>\n",
       "      <th>p1</th>\n",
       "      <th>p1_conf</th>\n",
       "      <th>p1_dog</th>\n",
       "      <th>p2</th>\n",
       "      <th>p2_conf</th>\n",
       "      <th>p2_dog</th>\n",
       "      <th>p3</th>\n",
       "      <th>p3_conf</th>\n",
       "      <th>p3_dog</th>\n",
       "      <th>dog_stage</th>\n",
       "    </tr>\n",
       "  </thead>\n",
       "  <tbody>\n",
       "    <tr>\n",
       "      <th>649</th>\n",
       "      <td>758828659922702336</td>\n",
       "      <td>2016-07-29 00:57:05+00:00</td>\n",
       "      <td>&lt;a href=\"http://twitter.com/download/iphone\" r...</td>\n",
       "      <td>This doggo is just waiting for someone to be p...</td>\n",
       "      <td>https://twitter.com/dog_rates/status/758828659...</td>\n",
       "      <td>13</td>\n",
       "      <td>10</td>\n",
       "      <td>NaN</td>\n",
       "      <td>3798</td>\n",
       "      <td>11136</td>\n",
       "      <td>...</td>\n",
       "      <td>Chesapeake_Bay_retriever</td>\n",
       "      <td>0.480048</td>\n",
       "      <td>True</td>\n",
       "      <td>vizsla</td>\n",
       "      <td>0.264522</td>\n",
       "      <td>True</td>\n",
       "      <td>Weimaraner</td>\n",
       "      <td>0.12184</td>\n",
       "      <td>True</td>\n",
       "      <td>doggo</td>\n",
       "    </tr>\n",
       "    <tr>\n",
       "      <th>2612</th>\n",
       "      <td>758828659922702336</td>\n",
       "      <td>2016-07-29 00:57:05+00:00</td>\n",
       "      <td>&lt;a href=\"http://twitter.com/download/iphone\" r...</td>\n",
       "      <td>This doggo is just waiting for someone to be p...</td>\n",
       "      <td>https://twitter.com/dog_rates/status/758828659...</td>\n",
       "      <td>13</td>\n",
       "      <td>10</td>\n",
       "      <td>NaN</td>\n",
       "      <td>3798</td>\n",
       "      <td>11136</td>\n",
       "      <td>...</td>\n",
       "      <td>Chesapeake_Bay_retriever</td>\n",
       "      <td>0.480048</td>\n",
       "      <td>True</td>\n",
       "      <td>vizsla</td>\n",
       "      <td>0.264522</td>\n",
       "      <td>True</td>\n",
       "      <td>Weimaraner</td>\n",
       "      <td>0.12184</td>\n",
       "      <td>True</td>\n",
       "      <td>NaN</td>\n",
       "    </tr>\n",
       "    <tr>\n",
       "      <th>4575</th>\n",
       "      <td>758828659922702336</td>\n",
       "      <td>2016-07-29 00:57:05+00:00</td>\n",
       "      <td>&lt;a href=\"http://twitter.com/download/iphone\" r...</td>\n",
       "      <td>This doggo is just waiting for someone to be p...</td>\n",
       "      <td>https://twitter.com/dog_rates/status/758828659...</td>\n",
       "      <td>13</td>\n",
       "      <td>10</td>\n",
       "      <td>NaN</td>\n",
       "      <td>3798</td>\n",
       "      <td>11136</td>\n",
       "      <td>...</td>\n",
       "      <td>Chesapeake_Bay_retriever</td>\n",
       "      <td>0.480048</td>\n",
       "      <td>True</td>\n",
       "      <td>vizsla</td>\n",
       "      <td>0.264522</td>\n",
       "      <td>True</td>\n",
       "      <td>Weimaraner</td>\n",
       "      <td>0.12184</td>\n",
       "      <td>True</td>\n",
       "      <td>NaN</td>\n",
       "    </tr>\n",
       "    <tr>\n",
       "      <th>6538</th>\n",
       "      <td>758828659922702336</td>\n",
       "      <td>2016-07-29 00:57:05+00:00</td>\n",
       "      <td>&lt;a href=\"http://twitter.com/download/iphone\" r...</td>\n",
       "      <td>This doggo is just waiting for someone to be p...</td>\n",
       "      <td>https://twitter.com/dog_rates/status/758828659...</td>\n",
       "      <td>13</td>\n",
       "      <td>10</td>\n",
       "      <td>NaN</td>\n",
       "      <td>3798</td>\n",
       "      <td>11136</td>\n",
       "      <td>...</td>\n",
       "      <td>Chesapeake_Bay_retriever</td>\n",
       "      <td>0.480048</td>\n",
       "      <td>True</td>\n",
       "      <td>vizsla</td>\n",
       "      <td>0.264522</td>\n",
       "      <td>True</td>\n",
       "      <td>Weimaraner</td>\n",
       "      <td>0.12184</td>\n",
       "      <td>True</td>\n",
       "      <td>NaN</td>\n",
       "    </tr>\n",
       "  </tbody>\n",
       "</table>\n",
       "<p>4 rows × 22 columns</p>\n",
       "</div>"
      ],
      "text/plain": [
       "                tweet_id                 timestamp  \\\n",
       "649   758828659922702336 2016-07-29 00:57:05+00:00   \n",
       "2612  758828659922702336 2016-07-29 00:57:05+00:00   \n",
       "4575  758828659922702336 2016-07-29 00:57:05+00:00   \n",
       "6538  758828659922702336 2016-07-29 00:57:05+00:00   \n",
       "\n",
       "                                                 source  \\\n",
       "649   <a href=\"http://twitter.com/download/iphone\" r...   \n",
       "2612  <a href=\"http://twitter.com/download/iphone\" r...   \n",
       "4575  <a href=\"http://twitter.com/download/iphone\" r...   \n",
       "6538  <a href=\"http://twitter.com/download/iphone\" r...   \n",
       "\n",
       "                                                   text  \\\n",
       "649   This doggo is just waiting for someone to be p...   \n",
       "2612  This doggo is just waiting for someone to be p...   \n",
       "4575  This doggo is just waiting for someone to be p...   \n",
       "6538  This doggo is just waiting for someone to be p...   \n",
       "\n",
       "                                          expanded_urls  rating_numerator  \\\n",
       "649   https://twitter.com/dog_rates/status/758828659...                13   \n",
       "2612  https://twitter.com/dog_rates/status/758828659...                13   \n",
       "4575  https://twitter.com/dog_rates/status/758828659...                13   \n",
       "6538  https://twitter.com/dog_rates/status/758828659...                13   \n",
       "\n",
       "      rating_denominator name  retweets  favorites  ...  \\\n",
       "649                   10  NaN      3798      11136  ...   \n",
       "2612                  10  NaN      3798      11136  ...   \n",
       "4575                  10  NaN      3798      11136  ...   \n",
       "6538                  10  NaN      3798      11136  ...   \n",
       "\n",
       "                            p1   p1_conf p1_dog      p2   p2_conf p2_dog  \\\n",
       "649   Chesapeake_Bay_retriever  0.480048   True  vizsla  0.264522   True   \n",
       "2612  Chesapeake_Bay_retriever  0.480048   True  vizsla  0.264522   True   \n",
       "4575  Chesapeake_Bay_retriever  0.480048   True  vizsla  0.264522   True   \n",
       "6538  Chesapeake_Bay_retriever  0.480048   True  vizsla  0.264522   True   \n",
       "\n",
       "              p3  p3_conf p3_dog  dog_stage  \n",
       "649   Weimaraner  0.12184   True      doggo  \n",
       "2612  Weimaraner  0.12184   True        NaN  \n",
       "4575  Weimaraner  0.12184   True        NaN  \n",
       "6538  Weimaraner  0.12184   True        NaN  \n",
       "\n",
       "[4 rows x 22 columns]"
      ]
     },
     "execution_count": 341,
     "metadata": {},
     "output_type": "execute_result"
    }
   ],
   "source": [
    "archive_clean_2[archive_clean_2['tweet_id'] == 758828659922702336]"
   ]
  },
  {
   "cell_type": "code",
   "execution_count": 342,
   "metadata": {},
   "outputs": [
    {
     "data": {
      "text/plain": [
       "7541"
      ]
     },
     "execution_count": 342,
     "metadata": {},
     "output_type": "execute_result"
    }
   ],
   "source": [
    "len(archive_clean_2[archive_clean_2.dog_stage.isnull()])"
   ]
  },
  {
   "cell_type": "code",
   "execution_count": 343,
   "metadata": {},
   "outputs": [
    {
     "data": {
      "text/plain": [
       "pupper     209\n",
       "doggo       71\n",
       "puppo       23\n",
       "floofer      8\n",
       "Name: dog_stage, dtype: int64"
      ]
     },
     "execution_count": 343,
     "metadata": {},
     "output_type": "execute_result"
    }
   ],
   "source": [
    "archive_clean_2.dog_stage.value_counts()"
   ]
  },
  {
   "cell_type": "code",
   "execution_count": 344,
   "metadata": {},
   "outputs": [
    {
     "name": "stdout",
     "output_type": "stream",
     "text": [
      "<class 'pandas.core.frame.DataFrame'>\n",
      "RangeIndex: 7852 entries, 0 to 7851\n",
      "Data columns (total 22 columns):\n",
      " #   Column              Non-Null Count  Dtype              \n",
      "---  ------              --------------  -----              \n",
      " 0   tweet_id            7852 non-null   int64              \n",
      " 1   timestamp           7852 non-null   datetime64[ns, UTC]\n",
      " 2   source              7852 non-null   object             \n",
      " 3   text                7852 non-null   object             \n",
      " 4   expanded_urls       7852 non-null   object             \n",
      " 5   rating_numerator    7852 non-null   int64              \n",
      " 6   rating_denominator  7852 non-null   int64              \n",
      " 7   name                5756 non-null   object             \n",
      " 8   retweets            7852 non-null   int64              \n",
      " 9   favorites           7852 non-null   int64              \n",
      " 10  jpg_url             7852 non-null   object             \n",
      " 11  img_num             7852 non-null   int64              \n",
      " 12  p1                  7852 non-null   object             \n",
      " 13  p1_conf             7852 non-null   float64            \n",
      " 14  p1_dog              7852 non-null   bool               \n",
      " 15  p2                  7852 non-null   object             \n",
      " 16  p2_conf             7852 non-null   float64            \n",
      " 17  p2_dog              7852 non-null   bool               \n",
      " 18  p3                  7852 non-null   object             \n",
      " 19  p3_conf             7852 non-null   float64            \n",
      " 20  p3_dog              7852 non-null   bool               \n",
      " 21  dog_stage           311 non-null    object             \n",
      "dtypes: bool(3), datetime64[ns, UTC](1), float64(3), int64(6), object(9)\n",
      "memory usage: 1.2+ MB\n"
     ]
    }
   ],
   "source": [
    "archive_clean_2.info()"
   ]
  },
  {
   "cell_type": "markdown",
   "metadata": {},
   "source": [
    "# Assessment data:\n",
    "\n",
    "### Untidy data :-\n",
    "- remove duplicate rows in tweet_id from archive_clean_2"
   ]
  },
  {
   "cell_type": "code",
   "execution_count": 357,
   "metadata": {},
   "outputs": [],
   "source": [
    "archive_clean_2 = archive_clean_2[~archive_clean_2['tweet_id'].duplicated(keep=False) | archive_clean_2[['dog_stage']].notnull().any(axis=1)]\n",
    "# reset dataframe index\n",
    "archive_clean_2.reset_index(drop=True, inplace=True)"
   ]
  },
  {
   "cell_type": "markdown",
   "metadata": {},
   "source": [
    "#### Test"
   ]
  },
  {
   "cell_type": "code",
   "execution_count": 356,
   "metadata": {},
   "outputs": [
    {
     "data": {
      "text/html": [
       "<div>\n",
       "<style scoped>\n",
       "    .dataframe tbody tr th:only-of-type {\n",
       "        vertical-align: middle;\n",
       "    }\n",
       "\n",
       "    .dataframe tbody tr th {\n",
       "        vertical-align: top;\n",
       "    }\n",
       "\n",
       "    .dataframe thead th {\n",
       "        text-align: right;\n",
       "    }\n",
       "</style>\n",
       "<table border=\"1\" class=\"dataframe\">\n",
       "  <thead>\n",
       "    <tr style=\"text-align: right;\">\n",
       "      <th></th>\n",
       "      <th>tweet_id</th>\n",
       "      <th>timestamp</th>\n",
       "      <th>source</th>\n",
       "      <th>text</th>\n",
       "      <th>expanded_urls</th>\n",
       "      <th>rating_numerator</th>\n",
       "      <th>rating_denominator</th>\n",
       "      <th>name</th>\n",
       "      <th>retweets</th>\n",
       "      <th>favorites</th>\n",
       "      <th>...</th>\n",
       "      <th>p1</th>\n",
       "      <th>p1_conf</th>\n",
       "      <th>p1_dog</th>\n",
       "      <th>p2</th>\n",
       "      <th>p2_conf</th>\n",
       "      <th>p2_dog</th>\n",
       "      <th>p3</th>\n",
       "      <th>p3_conf</th>\n",
       "      <th>p3_dog</th>\n",
       "      <th>dog_stage</th>\n",
       "    </tr>\n",
       "  </thead>\n",
       "  <tbody>\n",
       "    <tr>\n",
       "      <th>49</th>\n",
       "      <td>758828659922702336</td>\n",
       "      <td>2016-07-29 00:57:05+00:00</td>\n",
       "      <td>&lt;a href=\"http://twitter.com/download/iphone\" r...</td>\n",
       "      <td>This doggo is just waiting for someone to be p...</td>\n",
       "      <td>https://twitter.com/dog_rates/status/758828659...</td>\n",
       "      <td>13</td>\n",
       "      <td>10</td>\n",
       "      <td>NaN</td>\n",
       "      <td>3798</td>\n",
       "      <td>11136</td>\n",
       "      <td>...</td>\n",
       "      <td>Chesapeake_Bay_retriever</td>\n",
       "      <td>0.480048</td>\n",
       "      <td>True</td>\n",
       "      <td>vizsla</td>\n",
       "      <td>0.264522</td>\n",
       "      <td>True</td>\n",
       "      <td>Weimaraner</td>\n",
       "      <td>0.12184</td>\n",
       "      <td>True</td>\n",
       "      <td>doggo</td>\n",
       "    </tr>\n",
       "  </tbody>\n",
       "</table>\n",
       "<p>1 rows × 22 columns</p>\n",
       "</div>"
      ],
      "text/plain": [
       "              tweet_id                 timestamp  \\\n",
       "49  758828659922702336 2016-07-29 00:57:05+00:00   \n",
       "\n",
       "                                               source  \\\n",
       "49  <a href=\"http://twitter.com/download/iphone\" r...   \n",
       "\n",
       "                                                 text  \\\n",
       "49  This doggo is just waiting for someone to be p...   \n",
       "\n",
       "                                        expanded_urls  rating_numerator  \\\n",
       "49  https://twitter.com/dog_rates/status/758828659...                13   \n",
       "\n",
       "    rating_denominator name  retweets  favorites  ...  \\\n",
       "49                  10  NaN      3798      11136  ...   \n",
       "\n",
       "                          p1   p1_conf p1_dog      p2   p2_conf p2_dog  \\\n",
       "49  Chesapeake_Bay_retriever  0.480048   True  vizsla  0.264522   True   \n",
       "\n",
       "            p3  p3_conf p3_dog  dog_stage  \n",
       "49  Weimaraner  0.12184   True      doggo  \n",
       "\n",
       "[1 rows x 22 columns]"
      ]
     },
     "execution_count": 356,
     "metadata": {},
     "output_type": "execute_result"
    }
   ],
   "source": [
    "archive_clean_2[archive_clean_2['tweet_id'] == 758828659922702336]"
   ]
  },
  {
   "cell_type": "code",
   "execution_count": 351,
   "metadata": {},
   "outputs": [
    {
     "data": {
      "text/plain": [
       "pupper     209\n",
       "doggo       71\n",
       "puppo       23\n",
       "floofer      8\n",
       "Name: dog_stage, dtype: int64"
      ]
     },
     "execution_count": 351,
     "metadata": {},
     "output_type": "execute_result"
    }
   ],
   "source": [
    "archive_clean_2['dog_stage'].value_counts()"
   ]
  },
  {
   "cell_type": "code",
   "execution_count": 352,
   "metadata": {},
   "outputs": [
    {
     "name": "stdout",
     "output_type": "stream",
     "text": [
      "<class 'pandas.core.frame.DataFrame'>\n",
      "RangeIndex: 311 entries, 0 to 310\n",
      "Data columns (total 22 columns):\n",
      " #   Column              Non-Null Count  Dtype              \n",
      "---  ------              --------------  -----              \n",
      " 0   tweet_id            311 non-null    int64              \n",
      " 1   timestamp           311 non-null    datetime64[ns, UTC]\n",
      " 2   source              311 non-null    object             \n",
      " 3   text                311 non-null    object             \n",
      " 4   expanded_urls       311 non-null    object             \n",
      " 5   rating_numerator    311 non-null    int64              \n",
      " 6   rating_denominator  311 non-null    int64              \n",
      " 7   name                192 non-null    object             \n",
      " 8   retweets            311 non-null    int64              \n",
      " 9   favorites           311 non-null    int64              \n",
      " 10  jpg_url             311 non-null    object             \n",
      " 11  img_num             311 non-null    int64              \n",
      " 12  p1                  311 non-null    object             \n",
      " 13  p1_conf             311 non-null    float64            \n",
      " 14  p1_dog              311 non-null    bool               \n",
      " 15  p2                  311 non-null    object             \n",
      " 16  p2_conf             311 non-null    float64            \n",
      " 17  p2_dog              311 non-null    bool               \n",
      " 18  p3                  311 non-null    object             \n",
      " 19  p3_conf             311 non-null    float64            \n",
      " 20  p3_dog              311 non-null    bool               \n",
      " 21  dog_stage           311 non-null    object             \n",
      "dtypes: bool(3), datetime64[ns, UTC](1), float64(3), int64(6), object(9)\n",
      "memory usage: 47.2+ KB\n"
     ]
    }
   ],
   "source": [
    "archive_clean_2.info()"
   ]
  },
  {
   "cell_type": "markdown",
   "metadata": {},
   "source": [
    "# Store"
   ]
  },
  {
   "cell_type": "code",
   "execution_count": 358,
   "metadata": {},
   "outputs": [],
   "source": [
    "archive_clean_2.to_csv('twitter_archive_master.csv', encoding='utf-8', index=False)"
   ]
  },
  {
   "cell_type": "code",
   "execution_count": 365,
   "metadata": {},
   "outputs": [
    {
     "name": "stdout",
     "output_type": "stream",
     "text": [
      "<class 'pandas.core.frame.DataFrame'>\n",
      "RangeIndex: 311 entries, 0 to 310\n",
      "Data columns (total 22 columns):\n",
      " #   Column              Non-Null Count  Dtype              \n",
      "---  ------              --------------  -----              \n",
      " 0   tweet_id            311 non-null    int64              \n",
      " 1   timestamp           311 non-null    datetime64[ns, UTC]\n",
      " 2   source              311 non-null    object             \n",
      " 3   text                311 non-null    object             \n",
      " 4   expanded_urls       311 non-null    object             \n",
      " 5   rating_numerator    311 non-null    int64              \n",
      " 6   rating_denominator  311 non-null    int64              \n",
      " 7   name                192 non-null    object             \n",
      " 8   retweets            311 non-null    int64              \n",
      " 9   favorites           311 non-null    int64              \n",
      " 10  jpg_url             311 non-null    object             \n",
      " 11  img_num             311 non-null    int64              \n",
      " 12  p1                  311 non-null    object             \n",
      " 13  p1_conf             311 non-null    float64            \n",
      " 14  p1_dog              311 non-null    bool               \n",
      " 15  p2                  311 non-null    object             \n",
      " 16  p2_conf             311 non-null    float64            \n",
      " 17  p2_dog              311 non-null    bool               \n",
      " 18  p3                  311 non-null    object             \n",
      " 19  p3_conf             311 non-null    float64            \n",
      " 20  p3_dog              311 non-null    bool               \n",
      " 21  dog_stage           311 non-null    object             \n",
      "dtypes: bool(3), datetime64[ns, UTC](1), float64(3), int64(6), object(9)\n",
      "memory usage: 47.2+ KB\n"
     ]
    }
   ],
   "source": [
    "archive_clean_2.info()"
   ]
  },
  {
   "cell_type": "markdown",
   "metadata": {},
   "source": [
    "# Analysis"
   ]
  },
  {
   "cell_type": "markdown",
   "metadata": {},
   "source": [
    "What does the relationship between retweets and favorites look like?"
   ]
  },
  {
   "cell_type": "code",
   "execution_count": 370,
   "metadata": {},
   "outputs": [
    {
     "data": {
      "image/png": "[encoded data removed]",
      "text/plain": [
       "<Figure size 432x288 with 1 Axes>"
      ]
     },
     "metadata": {
      "needs_background": "light"
     },
     "output_type": "display_data"
    }
   ],
   "source": [
    "sns.distplot(archive_clean_2.favorites, color = 'green', label = 'Favorites');"
   ]
  },
  {
   "cell_type": "code",
   "execution_count": 373,
   "metadata": {},
   "outputs": [
    {
     "data": {
      "image/png": "[encoded data removed]",
      "text/plain": [
       "<Figure size 432x288 with 1 Axes>"
      ]
     },
     "metadata": {
      "needs_background": "light"
     },
     "output_type": "display_data"
    }
   ],
   "source": [
    "sns.distplot(archive_clean_2.retweets, color = 'blue', label = 'Retweets');"
   ]
  },
  {
   "cell_type": "markdown",
   "metadata": {},
   "source": [
    "Trying to log transform the favorites and retweets variables so I can get a normal distribution. I'm adding some artificial jitter by setting the zero values to ones."
   ]
  },
  {
   "cell_type": "code",
   "execution_count": 380,
   "metadata": {
    "scrolled": false
   },
   "outputs": [],
   "source": [
    "# suppress the warnings entirely\n",
    "pd.options.mode.chained_assignment = None\n",
    "favorities_lognormed = archive_clean_2.favorites[archive_clean_2.favorites <= 0] = 1\n",
    "retweets_lognormed = archive_clean_2.retweets[archive_clean_2.retweets <= 0] = 1"
   ]
  },
  {
   "cell_type": "code",
   "execution_count": 383,
   "metadata": {},
   "outputs": [
    {
     "data": {
      "image/png": "[encoded data removed]",
      "text/plain": [
       "<Figure size 1080x720 with 4 Axes>"
      ]
     },
     "metadata": {
      "needs_background": "light"
     },
     "output_type": "display_data"
    }
   ],
   "source": [
    "f, axes = plt.subplots(2,2,figsize=(15,10),sharex=False)\n",
    "\n",
    "sns.distplot(archive_clean_2.favorites, color = 'green', ax=axes[0,0], axlabel='Favorite Count')\n",
    "sns.distplot(archive_clean_2.retweets, color = 'blue', ax=axes[0,1], axlabel='Retweet Count')\n",
    "sns.distplot(archive_clean_2.favorites.apply(np.log), color = 'green', ax=axes[1,0], axlabel='Favorite Count (Normalized)')\n",
    "sns.distplot(archive_clean_2.retweets.apply(np.log), color = 'blue', ax=axes[1,1], axlabel='Retweet Count (Normalized)')\n",
    "\n",
    "f.savefig('distplots.png')"
   ]
  },
  {
   "cell_type": "markdown",
   "metadata": {},
   "source": [
    "The original distributions for both favorites and retweets have long positive tails. _Extremely popular tweets are extremely rare._ The normalized graphs (the bottom two) again show similar distributions. They are roughly normal except for the spike in values for the normalized favorite count. That may be due to my jitter work and not an actual attribute of the data. Or there are actually a bunch of tweets with one favorite count.\n",
    "\n",
    "The two variables seem to have similar distributions implying that the _two measurements are representing similar phenomona_."
   ]
  },
  {
   "cell_type": "code",
   "execution_count": 386,
   "metadata": {},
   "outputs": [
    {
     "data": {
      "text/plain": [
       "count     2058.000000\n",
       "mean      2537.967444\n",
       "std       4433.957202\n",
       "min         11.000000\n",
       "25%        543.000000\n",
       "50%       1198.500000\n",
       "75%       2920.000000\n",
       "max      76278.000000\n",
       "Name: retweets, dtype: float64"
      ]
     },
     "execution_count": 386,
     "metadata": {},
     "output_type": "execute_result"
    }
   ],
   "source": [
    "archive_clean['retweets'].describe()"
   ]
  },
  {
   "cell_type": "code",
   "execution_count": 389,
   "metadata": {},
   "outputs": [
    {
     "data": {
      "image/png": "[encoded data removed]",
      "text/plain": [
       "<Figure size 432x288 with 1 Axes>"
      ]
     },
     "metadata": {
      "needs_background": "light"
     },
     "output_type": "display_data"
    }
   ],
   "source": [
    "g = sns.regplot(x=archive_clean_2.retweets, y=archive_clean_2.favorites)\n",
    "plt.title(\"Favorites and Retweets\")\n",
    "plt.xlabel('Retweets')\n",
    "plt.ylabel('Favorites')\n",
    "fig = g.get_figure()\n",
    "fig.savefig('scatterplot.png')"
   ]
  },
  {
   "cell_type": "code",
   "execution_count": 414,
   "metadata": {},
   "outputs": [
    {
     "data": {
      "text/html": [
       "<div>\n",
       "<style scoped>\n",
       "    .dataframe tbody tr th:only-of-type {\n",
       "        vertical-align: middle;\n",
       "    }\n",
       "\n",
       "    .dataframe tbody tr th {\n",
       "        vertical-align: top;\n",
       "    }\n",
       "\n",
       "    .dataframe thead th {\n",
       "        text-align: right;\n",
       "    }\n",
       "</style>\n",
       "<table border=\"1\" class=\"dataframe\">\n",
       "  <thead>\n",
       "    <tr style=\"text-align: right;\">\n",
       "      <th></th>\n",
       "      <th>tweet_id</th>\n",
       "      <th>rating_numerator</th>\n",
       "      <th>rating_denominator</th>\n",
       "      <th>retweets</th>\n",
       "      <th>favorites</th>\n",
       "      <th>img_num</th>\n",
       "      <th>p1_conf</th>\n",
       "      <th>p1_dog</th>\n",
       "      <th>p2_conf</th>\n",
       "      <th>p2_dog</th>\n",
       "      <th>p3_conf</th>\n",
       "      <th>p3_dog</th>\n",
       "    </tr>\n",
       "  </thead>\n",
       "  <tbody>\n",
       "    <tr>\n",
       "      <th>tweet_id</th>\n",
       "      <td>1.000000</td>\n",
       "      <td>0.488191</td>\n",
       "      <td>NaN</td>\n",
       "      <td>0.274010</td>\n",
       "      <td>0.444583</td>\n",
       "      <td>0.196575</td>\n",
       "      <td>0.084934</td>\n",
       "      <td>0.184944</td>\n",
       "      <td>0.062165</td>\n",
       "      <td>0.155272</td>\n",
       "      <td>-0.065000</td>\n",
       "      <td>0.107751</td>\n",
       "    </tr>\n",
       "    <tr>\n",
       "      <th>rating_numerator</th>\n",
       "      <td>0.488191</td>\n",
       "      <td>1.000000</td>\n",
       "      <td>NaN</td>\n",
       "      <td>0.285111</td>\n",
       "      <td>0.346300</td>\n",
       "      <td>0.175088</td>\n",
       "      <td>0.162028</td>\n",
       "      <td>0.243095</td>\n",
       "      <td>-0.000681</td>\n",
       "      <td>0.211222</td>\n",
       "      <td>-0.084586</td>\n",
       "      <td>0.270675</td>\n",
       "    </tr>\n",
       "    <tr>\n",
       "      <th>rating_denominator</th>\n",
       "      <td>NaN</td>\n",
       "      <td>NaN</td>\n",
       "      <td>NaN</td>\n",
       "      <td>NaN</td>\n",
       "      <td>NaN</td>\n",
       "      <td>NaN</td>\n",
       "      <td>NaN</td>\n",
       "      <td>NaN</td>\n",
       "      <td>NaN</td>\n",
       "      <td>NaN</td>\n",
       "      <td>NaN</td>\n",
       "      <td>NaN</td>\n",
       "    </tr>\n",
       "    <tr>\n",
       "      <th>retweets</th>\n",
       "      <td>0.274010</td>\n",
       "      <td>0.285111</td>\n",
       "      <td>NaN</td>\n",
       "      <td>1.000000</td>\n",
       "      <td>0.954229</td>\n",
       "      <td>0.060932</td>\n",
       "      <td>0.010870</td>\n",
       "      <td>0.081178</td>\n",
       "      <td>0.025241</td>\n",
       "      <td>-0.009878</td>\n",
       "      <td>-0.029051</td>\n",
       "      <td>0.037561</td>\n",
       "    </tr>\n",
       "    <tr>\n",
       "      <th>favorites</th>\n",
       "      <td>0.444583</td>\n",
       "      <td>0.346300</td>\n",
       "      <td>NaN</td>\n",
       "      <td>0.954229</td>\n",
       "      <td>1.000000</td>\n",
       "      <td>0.090316</td>\n",
       "      <td>0.030686</td>\n",
       "      <td>0.123318</td>\n",
       "      <td>0.024831</td>\n",
       "      <td>0.036594</td>\n",
       "      <td>-0.045610</td>\n",
       "      <td>0.052975</td>\n",
       "    </tr>\n",
       "    <tr>\n",
       "      <th>img_num</th>\n",
       "      <td>0.196575</td>\n",
       "      <td>0.175088</td>\n",
       "      <td>NaN</td>\n",
       "      <td>0.060932</td>\n",
       "      <td>0.090316</td>\n",
       "      <td>1.000000</td>\n",
       "      <td>0.221911</td>\n",
       "      <td>0.049886</td>\n",
       "      <td>-0.160023</td>\n",
       "      <td>0.123537</td>\n",
       "      <td>-0.141374</td>\n",
       "      <td>0.083230</td>\n",
       "    </tr>\n",
       "    <tr>\n",
       "      <th>p1_conf</th>\n",
       "      <td>0.084934</td>\n",
       "      <td>0.162028</td>\n",
       "      <td>NaN</td>\n",
       "      <td>0.010870</td>\n",
       "      <td>0.030686</td>\n",
       "      <td>0.221911</td>\n",
       "      <td>1.000000</td>\n",
       "      <td>0.199114</td>\n",
       "      <td>-0.491857</td>\n",
       "      <td>0.185609</td>\n",
       "      <td>-0.709622</td>\n",
       "      <td>0.168697</td>\n",
       "    </tr>\n",
       "    <tr>\n",
       "      <th>p1_dog</th>\n",
       "      <td>0.184944</td>\n",
       "      <td>0.243095</td>\n",
       "      <td>NaN</td>\n",
       "      <td>0.081178</td>\n",
       "      <td>0.123318</td>\n",
       "      <td>0.049886</td>\n",
       "      <td>0.199114</td>\n",
       "      <td>1.000000</td>\n",
       "      <td>0.106073</td>\n",
       "      <td>0.624199</td>\n",
       "      <td>-0.025851</td>\n",
       "      <td>0.584322</td>\n",
       "    </tr>\n",
       "    <tr>\n",
       "      <th>p2_conf</th>\n",
       "      <td>0.062165</td>\n",
       "      <td>-0.000681</td>\n",
       "      <td>NaN</td>\n",
       "      <td>0.025241</td>\n",
       "      <td>0.024831</td>\n",
       "      <td>-0.160023</td>\n",
       "      <td>-0.491857</td>\n",
       "      <td>0.106073</td>\n",
       "      <td>1.000000</td>\n",
       "      <td>0.113991</td>\n",
       "      <td>0.469331</td>\n",
       "      <td>0.122124</td>\n",
       "    </tr>\n",
       "    <tr>\n",
       "      <th>p2_dog</th>\n",
       "      <td>0.155272</td>\n",
       "      <td>0.211222</td>\n",
       "      <td>NaN</td>\n",
       "      <td>-0.009878</td>\n",
       "      <td>0.036594</td>\n",
       "      <td>0.123537</td>\n",
       "      <td>0.185609</td>\n",
       "      <td>0.624199</td>\n",
       "      <td>0.113991</td>\n",
       "      <td>1.000000</td>\n",
       "      <td>-0.065071</td>\n",
       "      <td>0.606157</td>\n",
       "    </tr>\n",
       "    <tr>\n",
       "      <th>p3_conf</th>\n",
       "      <td>-0.065000</td>\n",
       "      <td>-0.084586</td>\n",
       "      <td>NaN</td>\n",
       "      <td>-0.029051</td>\n",
       "      <td>-0.045610</td>\n",
       "      <td>-0.141374</td>\n",
       "      <td>-0.709622</td>\n",
       "      <td>-0.025851</td>\n",
       "      <td>0.469331</td>\n",
       "      <td>-0.065071</td>\n",
       "      <td>1.000000</td>\n",
       "      <td>-0.017722</td>\n",
       "    </tr>\n",
       "    <tr>\n",
       "      <th>p3_dog</th>\n",
       "      <td>0.107751</td>\n",
       "      <td>0.270675</td>\n",
       "      <td>NaN</td>\n",
       "      <td>0.037561</td>\n",
       "      <td>0.052975</td>\n",
       "      <td>0.083230</td>\n",
       "      <td>0.168697</td>\n",
       "      <td>0.584322</td>\n",
       "      <td>0.122124</td>\n",
       "      <td>0.606157</td>\n",
       "      <td>-0.017722</td>\n",
       "      <td>1.000000</td>\n",
       "    </tr>\n",
       "  </tbody>\n",
       "</table>\n",
       "</div>"
      ],
      "text/plain": [
       "                    tweet_id  rating_numerator  rating_denominator  retweets  \\\n",
       "tweet_id            1.000000          0.488191                 NaN  0.274010   \n",
       "rating_numerator    0.488191          1.000000                 NaN  0.285111   \n",
       "rating_denominator       NaN               NaN                 NaN       NaN   \n",
       "retweets            0.274010          0.285111                 NaN  1.000000   \n",
       "favorites           0.444583          0.346300                 NaN  0.954229   \n",
       "img_num             0.196575          0.175088                 NaN  0.060932   \n",
       "p1_conf             0.084934          0.162028                 NaN  0.010870   \n",
       "p1_dog              0.184944          0.243095                 NaN  0.081178   \n",
       "p2_conf             0.062165         -0.000681                 NaN  0.025241   \n",
       "p2_dog              0.155272          0.211222                 NaN -0.009878   \n",
       "p3_conf            -0.065000         -0.084586                 NaN -0.029051   \n",
       "p3_dog              0.107751          0.270675                 NaN  0.037561   \n",
       "\n",
       "                    favorites   img_num   p1_conf    p1_dog   p2_conf  \\\n",
       "tweet_id             0.444583  0.196575  0.084934  0.184944  0.062165   \n",
       "rating_numerator     0.346300  0.175088  0.162028  0.243095 -0.000681   \n",
       "rating_denominator        NaN       NaN       NaN       NaN       NaN   \n",
       "retweets             0.954229  0.060932  0.010870  0.081178  0.025241   \n",
       "favorites            1.000000  0.090316  0.030686  0.123318  0.024831   \n",
       "img_num              0.090316  1.000000  0.221911  0.049886 -0.160023   \n",
       "p1_conf              0.030686  0.221911  1.000000  0.199114 -0.491857   \n",
       "p1_dog               0.123318  0.049886  0.199114  1.000000  0.106073   \n",
       "p2_conf              0.024831 -0.160023 -0.491857  0.106073  1.000000   \n",
       "p2_dog               0.036594  0.123537  0.185609  0.624199  0.113991   \n",
       "p3_conf             -0.045610 -0.141374 -0.709622 -0.025851  0.469331   \n",
       "p3_dog               0.052975  0.083230  0.168697  0.584322  0.122124   \n",
       "\n",
       "                      p2_dog   p3_conf    p3_dog  \n",
       "tweet_id            0.155272 -0.065000  0.107751  \n",
       "rating_numerator    0.211222 -0.084586  0.270675  \n",
       "rating_denominator       NaN       NaN       NaN  \n",
       "retweets           -0.009878 -0.029051  0.037561  \n",
       "favorites           0.036594 -0.045610  0.052975  \n",
       "img_num             0.123537 -0.141374  0.083230  \n",
       "p1_conf             0.185609 -0.709622  0.168697  \n",
       "p1_dog              0.624199 -0.025851  0.584322  \n",
       "p2_conf             0.113991  0.469331  0.122124  \n",
       "p2_dog              1.000000 -0.065071  0.606157  \n",
       "p3_conf            -0.065071  1.000000 -0.017722  \n",
       "p3_dog              0.606157 -0.017722  1.000000  "
      ]
     },
     "execution_count": 414,
     "metadata": {},
     "output_type": "execute_result"
    }
   ],
   "source": [
    "# archive_clean_2.corr()\n",
    "# archive_clean_2.info()\n",
    "archive_clean_2.corr()"
   ]
  },
  {
   "cell_type": "markdown",
   "metadata": {},
   "source": [
    "There is a strong relationship between retweet and favorite counts (0.95). As a tweet gains Favorites, one can expect to see Retweets to increase and vice versa. It looks like it may be a nonlinear relationship."
   ]
  }
 ],
 "metadata": {
  "kernelspec": {
   "display_name": "Python 3",
   "language": "python",
   "name": "python3"
  },
  "language_info": {
   "codemirror_mode": {
    "name": "ipython",
    "version": 3
   },
   "file_extension": ".py",
   "mimetype": "text/x-python",
   "name": "python",
   "nbconvert_exporter": "python",
   "pygments_lexer": "ipython3",
   "version": "3.8.3"
  }
 },
 "nbformat": 4,
 "nbformat_minor": 4
}
