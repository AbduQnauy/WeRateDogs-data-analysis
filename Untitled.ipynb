{
 "cells": [
  {
   "cell_type": "code",
   "execution_count": null,
   "metadata": {},
   "outputs": [],
   "source": [
    "key = \"D0cfoN3lSbarsaAxvEXCUbZc9\"\n",
    "# key = \"*************************\"\n",
    "\n",
    "key_secret = \"rNpQCzw3yMGlFbbniR2k1yFIxtAfoeVDUFVjWxbBK64WUmSTdO\"\n",
    "# key_secret = \"**********************\"\n",
    "\n",
    "token = \"3372549790-dpzzgYi2mwLId4TzOVc0RjK4Z7kk7mK0EA4SRgg\"\n",
    "# token = \"***********************\"\n",
    "\n",
    "token_secret = \"v5fIYYvsfUMnrr2xPL7HFHOLnLJ5uWhWpRY2yYrIxZ6Cr\"\n",
    "# token_secret = \"***************************\"\n",
    "\n",
    "\n",
    "auth = tweepy.OAuthHandler(key, key_secret)\n",
    "auth.set_access_token(token, token_secret)\n",
    "\n",
    "api = tweepy.API(auth)"
   ]
  }
 ],
 "metadata": {
  "kernelspec": {
   "display_name": "Python 3",
   "language": "python",
   "name": "python3"
  },
  "language_info": {
   "codemirror_mode": {
    "name": "ipython",
    "version": 3
   },
   "file_extension": ".py",
   "mimetype": "text/x-python",
   "name": "python",
   "nbconvert_exporter": "python",
   "pygments_lexer": "ipython3",
   "version": "3.8.3"
  }
 },
 "nbformat": 4,
 "nbformat_minor": 4
}
